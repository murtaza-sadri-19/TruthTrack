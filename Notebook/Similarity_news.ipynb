{
 "cells": [
  {
   "cell_type": "code",
   "id": "initial_id",
   "metadata": {
    "collapsed": true,
    "ExecuteTime": {
     "end_time": "2024-12-23T04:56:43.316190Z",
     "start_time": "2024-12-23T04:56:06.887617Z"
    }
   },
   "source": [
    "from sklearn.feature_extraction.text import TfidfVectorizer\n",
    "from sklearn.metrics.pairwise import cosine_similarity\n",
    "from difflib import SequenceMatcher\n",
    "from transformers import pipeline\n",
    "import numpy as np\n",
    "\n",
    "# Sample paragraphs\n",
    "para1 = \"The quick brown cat falls over the lazy dog.\"\n",
    "para2 = \"The slow red fox jump over a lazy rat.\"\n",
    "\n",
    "# 1. Preprocessing and Cosine Similarity (TF-IDF)\n",
    "print(\"=== TF-IDF Cosine Similarity ===\")\n",
    "tfidf = TfidfVectorizer()\n",
    "tfidf_matrix = tfidf.fit_transform([para1, para2])\n",
    "cosine_sim = cosine_similarity(tfidf_matrix[0], tfidf_matrix[1])[0][0]\n",
    "print(f\"Cosine Similarity (TF-IDF): {cosine_sim:.4f}\")\n",
    "\n",
    "print(\"\\n=== Levenshtein Distance ===\")\n",
    "levenshtein_sim = SequenceMatcher(None, para1, para2).ratio()\n",
    "print(f\"Levenshtein Similarity: {levenshtein_sim:.4f}\")\n",
    "\n",
    "# 3. Semantic Matching with BERT\n",
    "print(\"\\n=== Semantic Similarity with BERT ===\")\n",
    "bert_model = pipeline('feature-extraction', model='bert-large-uncased')\n",
    "# Get embeddings for both paragraphs\n",
    "bert_emb1 = np.mean(bert_model(para1), axis=1)\n",
    "bert_emb2 = np.mean(bert_model(para2), axis=1)\n",
    "# Compute Cosine Similarity on BERT embeddings\n",
    "bert_cosine_sim = cosine_similarity(bert_emb1, bert_emb2)[0][0]\n",
    "print(f\"Cosine Similarity (BERT): {bert_cosine_sim:.4f}\")"
   ],
   "outputs": [
    {
     "name": "stderr",
     "output_type": "stream",
     "text": [
      "C:\\Users\\Hp\\PycharmProjects\\Topic_Modelling_news\\.venv\\Lib\\site-packages\\tqdm\\auto.py:21: TqdmWarning: IProgress not found. Please update jupyter and ipywidgets. See https://ipywidgets.readthedocs.io/en/stable/user_install.html\n",
      "  from .autonotebook import tqdm as notebook_tqdm\n"
     ]
    },
    {
     "name": "stdout",
     "output_type": "stream",
     "text": [
      "=== TF-IDF Cosine Similarity ===\n",
      "Cosine Similarity (TF-IDF): 0.2798\n",
      "\n",
      "=== Levenshtein Distance ===\n",
      "Levenshtein Similarity: 0.5366\n",
      "\n",
      "=== Semantic Similarity with BERT ===\n"
     ]
    },
    {
     "name": "stderr",
     "output_type": "stream",
     "text": [
      "Device set to use cpu\n"
     ]
    },
    {
     "ename": "TypeError",
     "evalue": "unsupported format string passed to numpy.ndarray.__format__",
     "output_type": "error",
     "traceback": [
      "\u001B[1;31m---------------------------------------------------------------------------\u001B[0m",
      "\u001B[1;31mTypeError\u001B[0m                                 Traceback (most recent call last)",
      "Cell \u001B[1;32mIn[1], line 30\u001B[0m\n\u001B[0;32m     28\u001B[0m \u001B[38;5;66;03m# Compute Cosine Similarity on BERT embeddings\u001B[39;00m\n\u001B[0;32m     29\u001B[0m bert_cosine_sim \u001B[38;5;241m=\u001B[39m cosine_similarity(bert_emb1, bert_emb2)\n\u001B[1;32m---> 30\u001B[0m \u001B[38;5;28mprint\u001B[39m(\u001B[38;5;124mf\u001B[39m\u001B[38;5;124m\"\u001B[39m\u001B[38;5;124mCosine Similarity (BERT): \u001B[39m\u001B[38;5;132;43;01m{\u001B[39;49;00m\u001B[43mbert_cosine_sim\u001B[49m\u001B[38;5;132;43;01m:\u001B[39;49;00m\u001B[38;5;124;43m.4f\u001B[39;49m\u001B[38;5;132;43;01m}\u001B[39;49;00m\u001B[38;5;124m\"\u001B[39m)\n",
      "\u001B[1;31mTypeError\u001B[0m: unsupported format string passed to numpy.ndarray.__format__"
     ]
    }
   ],
   "execution_count": 1
  },
  {
   "metadata": {
    "ExecuteTime": {
     "end_time": "2024-12-23T05:41:58.751668Z",
     "start_time": "2024-12-23T05:41:55.923932Z"
    }
   },
   "cell_type": "code",
   "source": [
    "from sklearn.feature_extraction.text import TfidfVectorizer\n",
    "from sklearn.metrics.pairwise import cosine_similarity\n",
    "from difflib import SequenceMatcher\n",
    "from sentence_transformers import SentenceTransformer\n",
    "import numpy as np\n",
    "\n",
    "# Sample paragraphs\n",
    "para1 = \"The quick brown cat falls over the lazy dog.\"\n",
    "para2 = \"The brown cat falls over the dog.\"\n",
    "\n",
    "# 1. Preprocessing and Cosine Similarity (TF-IDF)\n",
    "print(\"=== TF-IDF Cosine Similarity ===\")\n",
    "tfidf = TfidfVectorizer()\n",
    "tfidf_matrix = tfidf.fit_transform([para1, para2])\n",
    "cosine_sim = cosine_similarity(tfidf_matrix[0], tfidf_matrix[1])[0][0]\n",
    "print(f\"Cosine Similarity (TF-IDF): {cosine_sim:.4f}\")\n",
    "\n",
    "# 2. Levenshtein Distance\n",
    "print(\"\\n=== Levenshtein Distance ===\")\n",
    "levenshtein_sim = SequenceMatcher(None, para1, para2).ratio()\n",
    "print(f\"Levenshtein Similarity: {levenshtein_sim:.4f}\")\n",
    "\n",
    "# 3. Harmonic Mean of TF-IDF and Levenshtein Similarity\n",
    "hm = 2 * (cosine_sim * levenshtein_sim) / (cosine_sim + levenshtein_sim)\n",
    "print(f\"\\n=== Harmonic Mean (TF-IDF & Levenshtein) ===\")\n",
    "print(f\"Harmonic Mean: {hm:.4f}\")\n",
    "\n",
    "# 4. Semantic Matching with Sentence Transformers\n",
    "print(\"\\n=== Semantic Similarity with Sentence Transformers ===\")\n",
    "model = SentenceTransformer('all-MiniLM-L6-v2')  # Lightweight model\n",
    "emb1 = model.encode(para1, normalize_embeddings=True)\n",
    "emb2 = model.encode(para2, normalize_embeddings=True)\n",
    "bert_cosine_sim = cosine_similarity([emb1], [emb2])[0][0]\n",
    "print(f\"Cosine Similarity (Sentence Transformers): {bert_cosine_sim:.4f}\")\n"
   ],
   "id": "c2e9d0a6227c7f1e",
   "outputs": [
    {
     "name": "stdout",
     "output_type": "stream",
     "text": [
      "=== TF-IDF Cosine Similarity ===\n",
      "Cosine Similarity (TF-IDF): 0.8336\n",
      "\n",
      "=== Levenshtein Distance ===\n",
      "Levenshtein Similarity: 0.8571\n",
      "\n",
      "=== Harmonic Mean (TF-IDF & Levenshtein) ===\n",
      "Harmonic Mean: 0.8452\n",
      "\n",
      "=== Semantic Similarity with Sentence Transformers ===\n",
      "Cosine Similarity (Sentence Transformers): 0.8475\n"
     ]
    }
   ],
   "execution_count": 2
  }
 ],
 "metadata": {
  "kernelspec": {
   "display_name": "Python 3",
   "language": "python",
   "name": "python3"
  },
  "language_info": {
   "codemirror_mode": {
    "name": "ipython",
    "version": 2
   },
   "file_extension": ".py",
   "mimetype": "text/x-python",
   "name": "python",
   "nbconvert_exporter": "python",
   "pygments_lexer": "ipython2",
   "version": "2.7.6"
  }
 },
 "nbformat": 4,
 "nbformat_minor": 5
}
